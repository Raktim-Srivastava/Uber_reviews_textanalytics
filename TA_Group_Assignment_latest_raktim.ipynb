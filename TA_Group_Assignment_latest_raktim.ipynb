{
  "cells": [
    {
      "cell_type": "markdown",
      "metadata": {
        "id": "view-in-github",
        "colab_type": "text"
      },
      "source": [
        "<a href=\"https://colab.research.google.com/github/Raktim-Srivastava/Uber_reviews_textanalytics/blob/main/TA_Group_Assignment_latest_raktim.ipynb\" target=\"_parent\"><img src=\"https://colab.research.google.com/assets/colab-badge.svg\" alt=\"Open In Colab\"/></a>"
      ]
    },
    {
      "cell_type": "code",
      "execution_count": 1,
      "metadata": {
        "id": "PKvc-KagpJQU"
      },
      "outputs": [],
      "source": [
        "import pandas as pd\n",
        "import numpy as np\n",
        "import matplotlib.pyplot as plt\n",
        "import seaborn as sns\n",
        "import time"
      ]
    },
    {
      "cell_type": "markdown",
      "metadata": {
        "id": "CaF7YHn7pJQX"
      },
      "source": [
        "### 0. Understanding the Business Problem\n",
        "Uber Inc in the US wants to know:\n",
        "\n",
        "- the major complaints premium users have about their cab services,\n",
        "- how these impact service ratings.\n",
        "\n",
        "We as (technical) consultants to Uber. have to:  \n",
        "- [a] analyze text reviews of Uber cabs’ US services,  \n",
        "- [b] relate whether and which different features of these reviews impact overall ratings  \n",
        "- [c] pinpoint possible areas of improvement."
      ]
    },
    {
      "cell_type": "markdown",
      "metadata": {
        "id": "2MnG7NuZpJQY"
      },
      "source": [
        "### 1. Pre-processing: \n",
        "- Examine the dataset. \n",
        "- ID the columns of interest. \n",
        "- Drop special characters, html junk etc. \n",
        "- Perform any other preprocessing and text-cleaning activity you think fits this context."
      ]
    },
    {
      "cell_type": "code",
      "execution_count": 2,
      "metadata": {
        "scrolled": true,
        "id": "XMeCLAdPpJQZ",
        "outputId": "273ab1c3-9bde-4cf1-b959-7b6d10534de7",
        "colab": {
          "base_uri": "https://localhost:8080/",
          "height": 206
        }
      },
      "outputs": [
        {
          "output_type": "execute_result",
          "data": {
            "text/plain": [
              "         Author_Name                           Title  \\\n",
              "0         #NEVERUBER        Dishonest and Disgusting   \n",
              "1           $$Heaven                      Free offer   \n",
              "2  .Disappointed....                      Inaccurate   \n",
              "3         .i. andrea                             bad   \n",
              "4           -:deka:-  Double charged me for an order   \n",
              "\n",
              "                                        Author_URL  App_Version  Rating  \\\n",
              "0  https://itunes.apple.com/us/reviews/id663331949  3.434.10005       1   \n",
              "1  https://itunes.apple.com/us/reviews/id810421958  3.434.10005       2   \n",
              "2   https://itunes.apple.com/us/reviews/id49598333  3.439.10000       2   \n",
              "3  https://itunes.apple.com/us/reviews/id689880334  3.434.10005       1   \n",
              "4  https://itunes.apple.com/us/reviews/id124963835  3.434.10005       1   \n",
              "\n",
              "                                              Review              Date  \n",
              "0  For half an hour, we tried EVERY UBER SERVICE ...  29-12-2020 01:14  \n",
              "1  If I’m not eligible for the offer Stop floodin...  01-01-2021 23:17  \n",
              "2  Consistently inaccurate Uber Eats ETA and the ...  15-01-2021 23:38  \n",
              "3  i had my rides canceled back to back. they the...  08-12-2020 01:01  \n",
              "4  Two of the same orders was added by accident. ...  15-12-2020 04:02  "
            ],
            "text/html": [
              "\n",
              "  <div id=\"df-e3a0a07d-65d7-4698-8e0a-712b3b01432e\">\n",
              "    <div class=\"colab-df-container\">\n",
              "      <div>\n",
              "<style scoped>\n",
              "    .dataframe tbody tr th:only-of-type {\n",
              "        vertical-align: middle;\n",
              "    }\n",
              "\n",
              "    .dataframe tbody tr th {\n",
              "        vertical-align: top;\n",
              "    }\n",
              "\n",
              "    .dataframe thead th {\n",
              "        text-align: right;\n",
              "    }\n",
              "</style>\n",
              "<table border=\"1\" class=\"dataframe\">\n",
              "  <thead>\n",
              "    <tr style=\"text-align: right;\">\n",
              "      <th></th>\n",
              "      <th>Author_Name</th>\n",
              "      <th>Title</th>\n",
              "      <th>Author_URL</th>\n",
              "      <th>App_Version</th>\n",
              "      <th>Rating</th>\n",
              "      <th>Review</th>\n",
              "      <th>Date</th>\n",
              "    </tr>\n",
              "  </thead>\n",
              "  <tbody>\n",
              "    <tr>\n",
              "      <th>0</th>\n",
              "      <td>#NEVERUBER</td>\n",
              "      <td>Dishonest and Disgusting</td>\n",
              "      <td>https://itunes.apple.com/us/reviews/id663331949</td>\n",
              "      <td>3.434.10005</td>\n",
              "      <td>1</td>\n",
              "      <td>For half an hour, we tried EVERY UBER SERVICE ...</td>\n",
              "      <td>29-12-2020 01:14</td>\n",
              "    </tr>\n",
              "    <tr>\n",
              "      <th>1</th>\n",
              "      <td>$$Heaven</td>\n",
              "      <td>Free offer</td>\n",
              "      <td>https://itunes.apple.com/us/reviews/id810421958</td>\n",
              "      <td>3.434.10005</td>\n",
              "      <td>2</td>\n",
              "      <td>If I’m not eligible for the offer Stop floodin...</td>\n",
              "      <td>01-01-2021 23:17</td>\n",
              "    </tr>\n",
              "    <tr>\n",
              "      <th>2</th>\n",
              "      <td>.Disappointed....</td>\n",
              "      <td>Inaccurate</td>\n",
              "      <td>https://itunes.apple.com/us/reviews/id49598333</td>\n",
              "      <td>3.439.10000</td>\n",
              "      <td>2</td>\n",
              "      <td>Consistently inaccurate Uber Eats ETA and the ...</td>\n",
              "      <td>15-01-2021 23:38</td>\n",
              "    </tr>\n",
              "    <tr>\n",
              "      <th>3</th>\n",
              "      <td>.i. andrea</td>\n",
              "      <td>bad</td>\n",
              "      <td>https://itunes.apple.com/us/reviews/id689880334</td>\n",
              "      <td>3.434.10005</td>\n",
              "      <td>1</td>\n",
              "      <td>i had my rides canceled back to back. they the...</td>\n",
              "      <td>08-12-2020 01:01</td>\n",
              "    </tr>\n",
              "    <tr>\n",
              "      <th>4</th>\n",
              "      <td>-:deka:-</td>\n",
              "      <td>Double charged me for an order</td>\n",
              "      <td>https://itunes.apple.com/us/reviews/id124963835</td>\n",
              "      <td>3.434.10005</td>\n",
              "      <td>1</td>\n",
              "      <td>Two of the same orders was added by accident. ...</td>\n",
              "      <td>15-12-2020 04:02</td>\n",
              "    </tr>\n",
              "  </tbody>\n",
              "</table>\n",
              "</div>\n",
              "      <button class=\"colab-df-convert\" onclick=\"convertToInteractive('df-e3a0a07d-65d7-4698-8e0a-712b3b01432e')\"\n",
              "              title=\"Convert this dataframe to an interactive table.\"\n",
              "              style=\"display:none;\">\n",
              "        \n",
              "  <svg xmlns=\"http://www.w3.org/2000/svg\" height=\"24px\"viewBox=\"0 0 24 24\"\n",
              "       width=\"24px\">\n",
              "    <path d=\"M0 0h24v24H0V0z\" fill=\"none\"/>\n",
              "    <path d=\"M18.56 5.44l.94 2.06.94-2.06 2.06-.94-2.06-.94-.94-2.06-.94 2.06-2.06.94zm-11 1L8.5 8.5l.94-2.06 2.06-.94-2.06-.94L8.5 2.5l-.94 2.06-2.06.94zm10 10l.94 2.06.94-2.06 2.06-.94-2.06-.94-.94-2.06-.94 2.06-2.06.94z\"/><path d=\"M17.41 7.96l-1.37-1.37c-.4-.4-.92-.59-1.43-.59-.52 0-1.04.2-1.43.59L10.3 9.45l-7.72 7.72c-.78.78-.78 2.05 0 2.83L4 21.41c.39.39.9.59 1.41.59.51 0 1.02-.2 1.41-.59l7.78-7.78 2.81-2.81c.8-.78.8-2.07 0-2.86zM5.41 20L4 18.59l7.72-7.72 1.47 1.35L5.41 20z\"/>\n",
              "  </svg>\n",
              "      </button>\n",
              "      \n",
              "  <style>\n",
              "    .colab-df-container {\n",
              "      display:flex;\n",
              "      flex-wrap:wrap;\n",
              "      gap: 12px;\n",
              "    }\n",
              "\n",
              "    .colab-df-convert {\n",
              "      background-color: #E8F0FE;\n",
              "      border: none;\n",
              "      border-radius: 50%;\n",
              "      cursor: pointer;\n",
              "      display: none;\n",
              "      fill: #1967D2;\n",
              "      height: 32px;\n",
              "      padding: 0 0 0 0;\n",
              "      width: 32px;\n",
              "    }\n",
              "\n",
              "    .colab-df-convert:hover {\n",
              "      background-color: #E2EBFA;\n",
              "      box-shadow: 0px 1px 2px rgba(60, 64, 67, 0.3), 0px 1px 3px 1px rgba(60, 64, 67, 0.15);\n",
              "      fill: #174EA6;\n",
              "    }\n",
              "\n",
              "    [theme=dark] .colab-df-convert {\n",
              "      background-color: #3B4455;\n",
              "      fill: #D2E3FC;\n",
              "    }\n",
              "\n",
              "    [theme=dark] .colab-df-convert:hover {\n",
              "      background-color: #434B5C;\n",
              "      box-shadow: 0px 1px 3px 1px rgba(0, 0, 0, 0.15);\n",
              "      filter: drop-shadow(0px 1px 2px rgba(0, 0, 0, 0.3));\n",
              "      fill: #FFFFFF;\n",
              "    }\n",
              "  </style>\n",
              "\n",
              "      <script>\n",
              "        const buttonEl =\n",
              "          document.querySelector('#df-e3a0a07d-65d7-4698-8e0a-712b3b01432e button.colab-df-convert');\n",
              "        buttonEl.style.display =\n",
              "          google.colab.kernel.accessAllowed ? 'block' : 'none';\n",
              "\n",
              "        async function convertToInteractive(key) {\n",
              "          const element = document.querySelector('#df-e3a0a07d-65d7-4698-8e0a-712b3b01432e');\n",
              "          const dataTable =\n",
              "            await google.colab.kernel.invokeFunction('convertToInteractive',\n",
              "                                                     [key], {});\n",
              "          if (!dataTable) return;\n",
              "\n",
              "          const docLinkHtml = 'Like what you see? Visit the ' +\n",
              "            '<a target=\"_blank\" href=https://colab.research.google.com/notebooks/data_table.ipynb>data table notebook</a>'\n",
              "            + ' to learn more about interactive tables.';\n",
              "          element.innerHTML = '';\n",
              "          dataTable['output_type'] = 'display_data';\n",
              "          await google.colab.output.renderOutput(dataTable, element);\n",
              "          const docLink = document.createElement('div');\n",
              "          docLink.innerHTML = docLinkHtml;\n",
              "          element.appendChild(docLink);\n",
              "        }\n",
              "      </script>\n",
              "    </div>\n",
              "  </div>\n",
              "  "
            ]
          },
          "metadata": {},
          "execution_count": 2
        }
      ],
      "source": [
        "df = pd.read_csv(\"https://raw.githubusercontent.com/Kenrich005/Uber_reviews_textanalytics/main/uber_reviews_itune.csv\",\n",
        "                 encoding='cp1252')\n",
        "df.head()"
      ]
    },
    {
      "cell_type": "markdown",
      "metadata": {
        "id": "F3G7Z5lhpJQZ"
      },
      "source": [
        "Columns of interest:  \n",
        "1. Title - Brief summary about the review\n",
        "2. Rating - Label for supervised learning\n",
        "3. Review - To extract the sentiment of the complaint\n",
        "4. Date - Extracting weekday or weekend may give better insight on nature of review"
      ]
    },
    {
      "cell_type": "markdown",
      "metadata": {
        "id": "e_bZ8VDLpJQa"
      },
      "source": [
        "### Data Cleaning"
      ]
    },
    {
      "cell_type": "code",
      "execution_count": 3,
      "metadata": {
        "id": "0TexXS5apJQa",
        "outputId": "4afbb24a-1d95-41ad-bcfa-c148d34a06ce",
        "colab": {
          "base_uri": "https://localhost:8080/",
          "height": 206
        }
      },
      "outputs": [
        {
          "output_type": "execute_result",
          "data": {
            "text/plain": [
              "                            Title  Rating  \\\n",
              "0        Dishonest and Disgusting       1   \n",
              "1                      Free offer       2   \n",
              "2                      Inaccurate       2   \n",
              "3                             bad       1   \n",
              "4  Double charged me for an order       1   \n",
              "\n",
              "                                              Review              Date  \n",
              "0  For half an hour, we tried EVERY UBER SERVICE ...  29-12-2020 01:14  \n",
              "1  If I’m not eligible for the offer Stop floodin...  01-01-2021 23:17  \n",
              "2  Consistently inaccurate Uber Eats ETA and the ...  15-01-2021 23:38  \n",
              "3  i had my rides canceled back to back. they the...  08-12-2020 01:01  \n",
              "4  Two of the same orders was added by accident. ...  15-12-2020 04:02  "
            ],
            "text/html": [
              "\n",
              "  <div id=\"df-cec3cc6a-27a3-4f74-8c4c-c5fc0bdcb87f\">\n",
              "    <div class=\"colab-df-container\">\n",
              "      <div>\n",
              "<style scoped>\n",
              "    .dataframe tbody tr th:only-of-type {\n",
              "        vertical-align: middle;\n",
              "    }\n",
              "\n",
              "    .dataframe tbody tr th {\n",
              "        vertical-align: top;\n",
              "    }\n",
              "\n",
              "    .dataframe thead th {\n",
              "        text-align: right;\n",
              "    }\n",
              "</style>\n",
              "<table border=\"1\" class=\"dataframe\">\n",
              "  <thead>\n",
              "    <tr style=\"text-align: right;\">\n",
              "      <th></th>\n",
              "      <th>Title</th>\n",
              "      <th>Rating</th>\n",
              "      <th>Review</th>\n",
              "      <th>Date</th>\n",
              "    </tr>\n",
              "  </thead>\n",
              "  <tbody>\n",
              "    <tr>\n",
              "      <th>0</th>\n",
              "      <td>Dishonest and Disgusting</td>\n",
              "      <td>1</td>\n",
              "      <td>For half an hour, we tried EVERY UBER SERVICE ...</td>\n",
              "      <td>29-12-2020 01:14</td>\n",
              "    </tr>\n",
              "    <tr>\n",
              "      <th>1</th>\n",
              "      <td>Free offer</td>\n",
              "      <td>2</td>\n",
              "      <td>If I’m not eligible for the offer Stop floodin...</td>\n",
              "      <td>01-01-2021 23:17</td>\n",
              "    </tr>\n",
              "    <tr>\n",
              "      <th>2</th>\n",
              "      <td>Inaccurate</td>\n",
              "      <td>2</td>\n",
              "      <td>Consistently inaccurate Uber Eats ETA and the ...</td>\n",
              "      <td>15-01-2021 23:38</td>\n",
              "    </tr>\n",
              "    <tr>\n",
              "      <th>3</th>\n",
              "      <td>bad</td>\n",
              "      <td>1</td>\n",
              "      <td>i had my rides canceled back to back. they the...</td>\n",
              "      <td>08-12-2020 01:01</td>\n",
              "    </tr>\n",
              "    <tr>\n",
              "      <th>4</th>\n",
              "      <td>Double charged me for an order</td>\n",
              "      <td>1</td>\n",
              "      <td>Two of the same orders was added by accident. ...</td>\n",
              "      <td>15-12-2020 04:02</td>\n",
              "    </tr>\n",
              "  </tbody>\n",
              "</table>\n",
              "</div>\n",
              "      <button class=\"colab-df-convert\" onclick=\"convertToInteractive('df-cec3cc6a-27a3-4f74-8c4c-c5fc0bdcb87f')\"\n",
              "              title=\"Convert this dataframe to an interactive table.\"\n",
              "              style=\"display:none;\">\n",
              "        \n",
              "  <svg xmlns=\"http://www.w3.org/2000/svg\" height=\"24px\"viewBox=\"0 0 24 24\"\n",
              "       width=\"24px\">\n",
              "    <path d=\"M0 0h24v24H0V0z\" fill=\"none\"/>\n",
              "    <path d=\"M18.56 5.44l.94 2.06.94-2.06 2.06-.94-2.06-.94-.94-2.06-.94 2.06-2.06.94zm-11 1L8.5 8.5l.94-2.06 2.06-.94-2.06-.94L8.5 2.5l-.94 2.06-2.06.94zm10 10l.94 2.06.94-2.06 2.06-.94-2.06-.94-.94-2.06-.94 2.06-2.06.94z\"/><path d=\"M17.41 7.96l-1.37-1.37c-.4-.4-.92-.59-1.43-.59-.52 0-1.04.2-1.43.59L10.3 9.45l-7.72 7.72c-.78.78-.78 2.05 0 2.83L4 21.41c.39.39.9.59 1.41.59.51 0 1.02-.2 1.41-.59l7.78-7.78 2.81-2.81c.8-.78.8-2.07 0-2.86zM5.41 20L4 18.59l7.72-7.72 1.47 1.35L5.41 20z\"/>\n",
              "  </svg>\n",
              "      </button>\n",
              "      \n",
              "  <style>\n",
              "    .colab-df-container {\n",
              "      display:flex;\n",
              "      flex-wrap:wrap;\n",
              "      gap: 12px;\n",
              "    }\n",
              "\n",
              "    .colab-df-convert {\n",
              "      background-color: #E8F0FE;\n",
              "      border: none;\n",
              "      border-radius: 50%;\n",
              "      cursor: pointer;\n",
              "      display: none;\n",
              "      fill: #1967D2;\n",
              "      height: 32px;\n",
              "      padding: 0 0 0 0;\n",
              "      width: 32px;\n",
              "    }\n",
              "\n",
              "    .colab-df-convert:hover {\n",
              "      background-color: #E2EBFA;\n",
              "      box-shadow: 0px 1px 2px rgba(60, 64, 67, 0.3), 0px 1px 3px 1px rgba(60, 64, 67, 0.15);\n",
              "      fill: #174EA6;\n",
              "    }\n",
              "\n",
              "    [theme=dark] .colab-df-convert {\n",
              "      background-color: #3B4455;\n",
              "      fill: #D2E3FC;\n",
              "    }\n",
              "\n",
              "    [theme=dark] .colab-df-convert:hover {\n",
              "      background-color: #434B5C;\n",
              "      box-shadow: 0px 1px 3px 1px rgba(0, 0, 0, 0.15);\n",
              "      filter: drop-shadow(0px 1px 2px rgba(0, 0, 0, 0.3));\n",
              "      fill: #FFFFFF;\n",
              "    }\n",
              "  </style>\n",
              "\n",
              "      <script>\n",
              "        const buttonEl =\n",
              "          document.querySelector('#df-cec3cc6a-27a3-4f74-8c4c-c5fc0bdcb87f button.colab-df-convert');\n",
              "        buttonEl.style.display =\n",
              "          google.colab.kernel.accessAllowed ? 'block' : 'none';\n",
              "\n",
              "        async function convertToInteractive(key) {\n",
              "          const element = document.querySelector('#df-cec3cc6a-27a3-4f74-8c4c-c5fc0bdcb87f');\n",
              "          const dataTable =\n",
              "            await google.colab.kernel.invokeFunction('convertToInteractive',\n",
              "                                                     [key], {});\n",
              "          if (!dataTable) return;\n",
              "\n",
              "          const docLinkHtml = 'Like what you see? Visit the ' +\n",
              "            '<a target=\"_blank\" href=https://colab.research.google.com/notebooks/data_table.ipynb>data table notebook</a>'\n",
              "            + ' to learn more about interactive tables.';\n",
              "          element.innerHTML = '';\n",
              "          dataTable['output_type'] = 'display_data';\n",
              "          await google.colab.output.renderOutput(dataTable, element);\n",
              "          const docLink = document.createElement('div');\n",
              "          docLink.innerHTML = docLinkHtml;\n",
              "          element.appendChild(docLink);\n",
              "        }\n",
              "      </script>\n",
              "    </div>\n",
              "  </div>\n",
              "  "
            ]
          },
          "metadata": {},
          "execution_count": 3
        }
      ],
      "source": [
        "df1 = df.drop(['Author_Name','Author_URL','App_Version'],axis=1)\n",
        "df1.head()"
      ]
    },
    {
      "cell_type": "markdown",
      "source": [
        "## Translate the languages to English."
      ],
      "metadata": {
        "id": "RU0V5Qyjpo6w"
      }
    },
    {
      "cell_type": "code",
      "source": [
        "#!pip install googletrans==3.1.0a0\n",
        "import googletrans\n",
        "from googletrans import *\n",
        "\n",
        "\n",
        "translator = googletrans.Translator()\n",
        "\n",
        "try:\n",
        "  df1['Review'] = df1['Review'].astype(str)\n",
        "  df1['Translated_Review'] = df1['Review'].apply(translator.translate, src='auto', dest='en').apply(getattr, args=('text',))\n",
        "except AttributeError:\n",
        "  pass\n",
        "\n",
        "df1"
      ],
      "metadata": {
        "id": "9JMDa20ApxkH",
        "outputId": "feefc901-07be-4d62-eaa7-fd4052a56161",
        "colab": {
          "base_uri": "https://localhost:8080/",
          "height": 424
        }
      },
      "execution_count": 4,
      "outputs": [
        {
          "output_type": "execute_result",
          "data": {
            "text/plain": [
              "                                                 Title  Rating  \\\n",
              "0                             Dishonest and Disgusting       1   \n",
              "1                                           Free offer       2   \n",
              "2                                           Inaccurate       2   \n",
              "3                                                  bad       1   \n",
              "4                       Double charged me for an order       1   \n",
              "..                                                 ...     ...   \n",
              "485                                               Uber       5   \n",
              "486                                     Crap crap crap       1   \n",
              "487                                   Sleeping Drivers       1   \n",
              "488  Bad design re: offer code redemption and issue...       1   \n",
              "489                                   I’m sick of Uber       1   \n",
              "\n",
              "                                                Review              Date  \\\n",
              "0    For half an hour, we tried EVERY UBER SERVICE ...  29-12-2020 01:14   \n",
              "1    If I’m not eligible for the offer Stop floodin...  01-01-2021 23:17   \n",
              "2    Consistently inaccurate Uber Eats ETA and the ...  15-01-2021 23:38   \n",
              "3    i had my rides canceled back to back. they the...  08-12-2020 01:01   \n",
              "4    Two of the same orders was added by accident. ...  15-12-2020 04:02   \n",
              "..                                                 ...               ...   \n",
              "485  Perdí mi cuenta no la puedo recuperar la use e...  16-01-2021 02:39   \n",
              "486  Still the same. I was forced to use it in Colo...  23-12-2020 00:15   \n",
              "487  It is a 30 minute commute from my household to...  16-12-2020 19:10   \n",
              "488  Was sent a $30 off UBer Eats. I thought about ...  25-11-2020 23:06   \n",
              "489  At first Uber was okay but than things started...  05-12-2020 12:19   \n",
              "\n",
              "                                     Translated_Review  \n",
              "0    For half an hour, we tried EVERY UBER SERVICE ...  \n",
              "1    If I’m not eligible for the offer Stop floodin...  \n",
              "2    Consistently inaccurate Uber Eats ETA and the ...  \n",
              "3    i had my rides canceled back to back. they the...  \n",
              "4    Two of the same orders was added by accident. ...  \n",
              "..                                                 ...  \n",
              "485  I lost my account I can't get it back I used i...  \n",
              "486  Still the same. I was forced to use it in Colo...  \n",
              "487  It is a 30 minute commute from my household to...  \n",
              "488  Was sent a $30 off UBer Eats. I thought about ...  \n",
              "489  At first Uber was okay but than things started...  \n",
              "\n",
              "[490 rows x 5 columns]"
            ],
            "text/html": [
              "\n",
              "  <div id=\"df-13c013ef-7edd-4423-b7b3-f779ebe026e5\">\n",
              "    <div class=\"colab-df-container\">\n",
              "      <div>\n",
              "<style scoped>\n",
              "    .dataframe tbody tr th:only-of-type {\n",
              "        vertical-align: middle;\n",
              "    }\n",
              "\n",
              "    .dataframe tbody tr th {\n",
              "        vertical-align: top;\n",
              "    }\n",
              "\n",
              "    .dataframe thead th {\n",
              "        text-align: right;\n",
              "    }\n",
              "</style>\n",
              "<table border=\"1\" class=\"dataframe\">\n",
              "  <thead>\n",
              "    <tr style=\"text-align: right;\">\n",
              "      <th></th>\n",
              "      <th>Title</th>\n",
              "      <th>Rating</th>\n",
              "      <th>Review</th>\n",
              "      <th>Date</th>\n",
              "      <th>Translated_Review</th>\n",
              "    </tr>\n",
              "  </thead>\n",
              "  <tbody>\n",
              "    <tr>\n",
              "      <th>0</th>\n",
              "      <td>Dishonest and Disgusting</td>\n",
              "      <td>1</td>\n",
              "      <td>For half an hour, we tried EVERY UBER SERVICE ...</td>\n",
              "      <td>29-12-2020 01:14</td>\n",
              "      <td>For half an hour, we tried EVERY UBER SERVICE ...</td>\n",
              "    </tr>\n",
              "    <tr>\n",
              "      <th>1</th>\n",
              "      <td>Free offer</td>\n",
              "      <td>2</td>\n",
              "      <td>If I’m not eligible for the offer Stop floodin...</td>\n",
              "      <td>01-01-2021 23:17</td>\n",
              "      <td>If I’m not eligible for the offer Stop floodin...</td>\n",
              "    </tr>\n",
              "    <tr>\n",
              "      <th>2</th>\n",
              "      <td>Inaccurate</td>\n",
              "      <td>2</td>\n",
              "      <td>Consistently inaccurate Uber Eats ETA and the ...</td>\n",
              "      <td>15-01-2021 23:38</td>\n",
              "      <td>Consistently inaccurate Uber Eats ETA and the ...</td>\n",
              "    </tr>\n",
              "    <tr>\n",
              "      <th>3</th>\n",
              "      <td>bad</td>\n",
              "      <td>1</td>\n",
              "      <td>i had my rides canceled back to back. they the...</td>\n",
              "      <td>08-12-2020 01:01</td>\n",
              "      <td>i had my rides canceled back to back. they the...</td>\n",
              "    </tr>\n",
              "    <tr>\n",
              "      <th>4</th>\n",
              "      <td>Double charged me for an order</td>\n",
              "      <td>1</td>\n",
              "      <td>Two of the same orders was added by accident. ...</td>\n",
              "      <td>15-12-2020 04:02</td>\n",
              "      <td>Two of the same orders was added by accident. ...</td>\n",
              "    </tr>\n",
              "    <tr>\n",
              "      <th>...</th>\n",
              "      <td>...</td>\n",
              "      <td>...</td>\n",
              "      <td>...</td>\n",
              "      <td>...</td>\n",
              "      <td>...</td>\n",
              "    </tr>\n",
              "    <tr>\n",
              "      <th>485</th>\n",
              "      <td>Uber</td>\n",
              "      <td>5</td>\n",
              "      <td>Perdí mi cuenta no la puedo recuperar la use e...</td>\n",
              "      <td>16-01-2021 02:39</td>\n",
              "      <td>I lost my account I can't get it back I used i...</td>\n",
              "    </tr>\n",
              "    <tr>\n",
              "      <th>486</th>\n",
              "      <td>Crap crap crap</td>\n",
              "      <td>1</td>\n",
              "      <td>Still the same. I was forced to use it in Colo...</td>\n",
              "      <td>23-12-2020 00:15</td>\n",
              "      <td>Still the same. I was forced to use it in Colo...</td>\n",
              "    </tr>\n",
              "    <tr>\n",
              "      <th>487</th>\n",
              "      <td>Sleeping Drivers</td>\n",
              "      <td>1</td>\n",
              "      <td>It is a 30 minute commute from my household to...</td>\n",
              "      <td>16-12-2020 19:10</td>\n",
              "      <td>It is a 30 minute commute from my household to...</td>\n",
              "    </tr>\n",
              "    <tr>\n",
              "      <th>488</th>\n",
              "      <td>Bad design re: offer code redemption and issue...</td>\n",
              "      <td>1</td>\n",
              "      <td>Was sent a $30 off UBer Eats. I thought about ...</td>\n",
              "      <td>25-11-2020 23:06</td>\n",
              "      <td>Was sent a $30 off UBer Eats. I thought about ...</td>\n",
              "    </tr>\n",
              "    <tr>\n",
              "      <th>489</th>\n",
              "      <td>I’m sick of Uber</td>\n",
              "      <td>1</td>\n",
              "      <td>At first Uber was okay but than things started...</td>\n",
              "      <td>05-12-2020 12:19</td>\n",
              "      <td>At first Uber was okay but than things started...</td>\n",
              "    </tr>\n",
              "  </tbody>\n",
              "</table>\n",
              "<p>490 rows × 5 columns</p>\n",
              "</div>\n",
              "      <button class=\"colab-df-convert\" onclick=\"convertToInteractive('df-13c013ef-7edd-4423-b7b3-f779ebe026e5')\"\n",
              "              title=\"Convert this dataframe to an interactive table.\"\n",
              "              style=\"display:none;\">\n",
              "        \n",
              "  <svg xmlns=\"http://www.w3.org/2000/svg\" height=\"24px\"viewBox=\"0 0 24 24\"\n",
              "       width=\"24px\">\n",
              "    <path d=\"M0 0h24v24H0V0z\" fill=\"none\"/>\n",
              "    <path d=\"M18.56 5.44l.94 2.06.94-2.06 2.06-.94-2.06-.94-.94-2.06-.94 2.06-2.06.94zm-11 1L8.5 8.5l.94-2.06 2.06-.94-2.06-.94L8.5 2.5l-.94 2.06-2.06.94zm10 10l.94 2.06.94-2.06 2.06-.94-2.06-.94-.94-2.06-.94 2.06-2.06.94z\"/><path d=\"M17.41 7.96l-1.37-1.37c-.4-.4-.92-.59-1.43-.59-.52 0-1.04.2-1.43.59L10.3 9.45l-7.72 7.72c-.78.78-.78 2.05 0 2.83L4 21.41c.39.39.9.59 1.41.59.51 0 1.02-.2 1.41-.59l7.78-7.78 2.81-2.81c.8-.78.8-2.07 0-2.86zM5.41 20L4 18.59l7.72-7.72 1.47 1.35L5.41 20z\"/>\n",
              "  </svg>\n",
              "      </button>\n",
              "      \n",
              "  <style>\n",
              "    .colab-df-container {\n",
              "      display:flex;\n",
              "      flex-wrap:wrap;\n",
              "      gap: 12px;\n",
              "    }\n",
              "\n",
              "    .colab-df-convert {\n",
              "      background-color: #E8F0FE;\n",
              "      border: none;\n",
              "      border-radius: 50%;\n",
              "      cursor: pointer;\n",
              "      display: none;\n",
              "      fill: #1967D2;\n",
              "      height: 32px;\n",
              "      padding: 0 0 0 0;\n",
              "      width: 32px;\n",
              "    }\n",
              "\n",
              "    .colab-df-convert:hover {\n",
              "      background-color: #E2EBFA;\n",
              "      box-shadow: 0px 1px 2px rgba(60, 64, 67, 0.3), 0px 1px 3px 1px rgba(60, 64, 67, 0.15);\n",
              "      fill: #174EA6;\n",
              "    }\n",
              "\n",
              "    [theme=dark] .colab-df-convert {\n",
              "      background-color: #3B4455;\n",
              "      fill: #D2E3FC;\n",
              "    }\n",
              "\n",
              "    [theme=dark] .colab-df-convert:hover {\n",
              "      background-color: #434B5C;\n",
              "      box-shadow: 0px 1px 3px 1px rgba(0, 0, 0, 0.15);\n",
              "      filter: drop-shadow(0px 1px 2px rgba(0, 0, 0, 0.3));\n",
              "      fill: #FFFFFF;\n",
              "    }\n",
              "  </style>\n",
              "\n",
              "      <script>\n",
              "        const buttonEl =\n",
              "          document.querySelector('#df-13c013ef-7edd-4423-b7b3-f779ebe026e5 button.colab-df-convert');\n",
              "        buttonEl.style.display =\n",
              "          google.colab.kernel.accessAllowed ? 'block' : 'none';\n",
              "\n",
              "        async function convertToInteractive(key) {\n",
              "          const element = document.querySelector('#df-13c013ef-7edd-4423-b7b3-f779ebe026e5');\n",
              "          const dataTable =\n",
              "            await google.colab.kernel.invokeFunction('convertToInteractive',\n",
              "                                                     [key], {});\n",
              "          if (!dataTable) return;\n",
              "\n",
              "          const docLinkHtml = 'Like what you see? Visit the ' +\n",
              "            '<a target=\"_blank\" href=https://colab.research.google.com/notebooks/data_table.ipynb>data table notebook</a>'\n",
              "            + ' to learn more about interactive tables.';\n",
              "          element.innerHTML = '';\n",
              "          dataTable['output_type'] = 'display_data';\n",
              "          await google.colab.output.renderOutput(dataTable, element);\n",
              "          const docLink = document.createElement('div');\n",
              "          docLink.innerHTML = docLinkHtml;\n",
              "          element.appendChild(docLink);\n",
              "        }\n",
              "      </script>\n",
              "    </div>\n",
              "  </div>\n",
              "  "
            ]
          },
          "metadata": {},
          "execution_count": 4
        }
      ]
    },
    {
      "cell_type": "code",
      "execution_count": 37,
      "metadata": {
        "id": "Bw-YwXOLpJQb",
        "outputId": "06977cc5-0372-4f6a-de7b-eed150bc080e",
        "colab": {
          "base_uri": "https://localhost:8080/",
          "height": 261
        }
      },
      "outputs": [
        {
          "output_type": "stream",
          "name": "stderr",
          "text": [
            "/usr/local/lib/python3.7/dist-packages/ipykernel_launcher.py:3: FutureWarning: The default value of regex will change from True to False in a future version. In addition, single character regular expressions will *not* be treated as literal strings when regex=True.\n",
            "  This is separate from the ipykernel package so we can avoid doing imports until\n"
          ]
        },
        {
          "output_type": "execute_result",
          "data": {
            "text/plain": [
              "           Code                  CLDR Short Name\n",
              "0  <U+0001F600>                    grinning face\n",
              "1  <U+0001F603>      grinning face with big eyes\n",
              "2  <U+0001F604>  grinning face with smiling eyes\n",
              "3  <U+0001F601>   beaming face with smiling eyes\n",
              "4  <U+0001F606>          grinning squinting face"
            ],
            "text/html": [
              "\n",
              "  <div id=\"df-efb7df3e-61e7-497a-836e-d264808c8d36\">\n",
              "    <div class=\"colab-df-container\">\n",
              "      <div>\n",
              "<style scoped>\n",
              "    .dataframe tbody tr th:only-of-type {\n",
              "        vertical-align: middle;\n",
              "    }\n",
              "\n",
              "    .dataframe tbody tr th {\n",
              "        vertical-align: top;\n",
              "    }\n",
              "\n",
              "    .dataframe thead th {\n",
              "        text-align: right;\n",
              "    }\n",
              "</style>\n",
              "<table border=\"1\" class=\"dataframe\">\n",
              "  <thead>\n",
              "    <tr style=\"text-align: right;\">\n",
              "      <th></th>\n",
              "      <th>Code</th>\n",
              "      <th>CLDR Short Name</th>\n",
              "    </tr>\n",
              "  </thead>\n",
              "  <tbody>\n",
              "    <tr>\n",
              "      <th>0</th>\n",
              "      <td>&lt;U+0001F600&gt;</td>\n",
              "      <td>grinning face</td>\n",
              "    </tr>\n",
              "    <tr>\n",
              "      <th>1</th>\n",
              "      <td>&lt;U+0001F603&gt;</td>\n",
              "      <td>grinning face with big eyes</td>\n",
              "    </tr>\n",
              "    <tr>\n",
              "      <th>2</th>\n",
              "      <td>&lt;U+0001F604&gt;</td>\n",
              "      <td>grinning face with smiling eyes</td>\n",
              "    </tr>\n",
              "    <tr>\n",
              "      <th>3</th>\n",
              "      <td>&lt;U+0001F601&gt;</td>\n",
              "      <td>beaming face with smiling eyes</td>\n",
              "    </tr>\n",
              "    <tr>\n",
              "      <th>4</th>\n",
              "      <td>&lt;U+0001F606&gt;</td>\n",
              "      <td>grinning squinting face</td>\n",
              "    </tr>\n",
              "  </tbody>\n",
              "</table>\n",
              "</div>\n",
              "      <button class=\"colab-df-convert\" onclick=\"convertToInteractive('df-efb7df3e-61e7-497a-836e-d264808c8d36')\"\n",
              "              title=\"Convert this dataframe to an interactive table.\"\n",
              "              style=\"display:none;\">\n",
              "        \n",
              "  <svg xmlns=\"http://www.w3.org/2000/svg\" height=\"24px\"viewBox=\"0 0 24 24\"\n",
              "       width=\"24px\">\n",
              "    <path d=\"M0 0h24v24H0V0z\" fill=\"none\"/>\n",
              "    <path d=\"M18.56 5.44l.94 2.06.94-2.06 2.06-.94-2.06-.94-.94-2.06-.94 2.06-2.06.94zm-11 1L8.5 8.5l.94-2.06 2.06-.94-2.06-.94L8.5 2.5l-.94 2.06-2.06.94zm10 10l.94 2.06.94-2.06 2.06-.94-2.06-.94-.94-2.06-.94 2.06-2.06.94z\"/><path d=\"M17.41 7.96l-1.37-1.37c-.4-.4-.92-.59-1.43-.59-.52 0-1.04.2-1.43.59L10.3 9.45l-7.72 7.72c-.78.78-.78 2.05 0 2.83L4 21.41c.39.39.9.59 1.41.59.51 0 1.02-.2 1.41-.59l7.78-7.78 2.81-2.81c.8-.78.8-2.07 0-2.86zM5.41 20L4 18.59l7.72-7.72 1.47 1.35L5.41 20z\"/>\n",
              "  </svg>\n",
              "      </button>\n",
              "      \n",
              "  <style>\n",
              "    .colab-df-container {\n",
              "      display:flex;\n",
              "      flex-wrap:wrap;\n",
              "      gap: 12px;\n",
              "    }\n",
              "\n",
              "    .colab-df-convert {\n",
              "      background-color: #E8F0FE;\n",
              "      border: none;\n",
              "      border-radius: 50%;\n",
              "      cursor: pointer;\n",
              "      display: none;\n",
              "      fill: #1967D2;\n",
              "      height: 32px;\n",
              "      padding: 0 0 0 0;\n",
              "      width: 32px;\n",
              "    }\n",
              "\n",
              "    .colab-df-convert:hover {\n",
              "      background-color: #E2EBFA;\n",
              "      box-shadow: 0px 1px 2px rgba(60, 64, 67, 0.3), 0px 1px 3px 1px rgba(60, 64, 67, 0.15);\n",
              "      fill: #174EA6;\n",
              "    }\n",
              "\n",
              "    [theme=dark] .colab-df-convert {\n",
              "      background-color: #3B4455;\n",
              "      fill: #D2E3FC;\n",
              "    }\n",
              "\n",
              "    [theme=dark] .colab-df-convert:hover {\n",
              "      background-color: #434B5C;\n",
              "      box-shadow: 0px 1px 3px 1px rgba(0, 0, 0, 0.15);\n",
              "      filter: drop-shadow(0px 1px 2px rgba(0, 0, 0, 0.3));\n",
              "      fill: #FFFFFF;\n",
              "    }\n",
              "  </style>\n",
              "\n",
              "      <script>\n",
              "        const buttonEl =\n",
              "          document.querySelector('#df-efb7df3e-61e7-497a-836e-d264808c8d36 button.colab-df-convert');\n",
              "        buttonEl.style.display =\n",
              "          google.colab.kernel.accessAllowed ? 'block' : 'none';\n",
              "\n",
              "        async function convertToInteractive(key) {\n",
              "          const element = document.querySelector('#df-efb7df3e-61e7-497a-836e-d264808c8d36');\n",
              "          const dataTable =\n",
              "            await google.colab.kernel.invokeFunction('convertToInteractive',\n",
              "                                                     [key], {});\n",
              "          if (!dataTable) return;\n",
              "\n",
              "          const docLinkHtml = 'Like what you see? Visit the ' +\n",
              "            '<a target=\"_blank\" href=https://colab.research.google.com/notebooks/data_table.ipynb>data table notebook</a>'\n",
              "            + ' to learn more about interactive tables.';\n",
              "          element.innerHTML = '';\n",
              "          dataTable['output_type'] = 'display_data';\n",
              "          await google.colab.output.renderOutput(dataTable, element);\n",
              "          const docLink = document.createElement('div');\n",
              "          docLink.innerHTML = docLinkHtml;\n",
              "          element.appendChild(docLink);\n",
              "        }\n",
              "      </script>\n",
              "    </div>\n",
              "  </div>\n",
              "  "
            ]
          },
          "metadata": {},
          "execution_count": 37
        }
      ],
      "source": [
        "# Replacing emoticon with its respective meaning\n",
        "df_emojis = pd.read_csv(\"https://raw.githubusercontent.com/Kenrich005/Uber_reviews_textanalytics/main/emoji_description.csv\")\n",
        "df_emojis['Code'] = df_emojis['Code'].str.replace('+','+000')\n",
        "df_emojis.head()"
      ]
    },
    {
      "cell_type": "code",
      "execution_count": 38,
      "metadata": {
        "id": "ptcVCQOkpJQb",
        "outputId": "574bf690-fdc0-4358-8343-1a8ef93590bf",
        "colab": {
          "base_uri": "https://localhost:8080/",
          "height": 424
        }
      },
      "outputs": [
        {
          "output_type": "execute_result",
          "data": {
            "text/plain": [
              "                                                   Code  \\\n",
              "0                                          <U+0001F600>   \n",
              "1                                          <U+0001F603>   \n",
              "2                                          <U+0001F604>   \n",
              "3                                          <U+0001F601>   \n",
              "4                                          <U+0001F606>   \n",
              "...                                                 ...   \n",
              "2101                                 <subdivision-flag>   \n",
              "2102                                             <Code>   \n",
              "2103  <U+0001F3F4 U+000E0067 U+000E0062 U+000E0065 U...   \n",
              "2104  <U+0001F3F4 U+000E0067 U+000E0062 U+000E0073 U...   \n",
              "2105  <U+0001F3F4 U+000E0067 U+000E0062 U+000E0077 U...   \n",
              "\n",
              "                      CLDR Short Name  \n",
              "0                       grinning face  \n",
              "1         grinning face with big eyes  \n",
              "2     grinning face with smiling eyes  \n",
              "3      beaming face with smiling eyes  \n",
              "4             grinning squinting face  \n",
              "...                               ...  \n",
              "2101                 subdivision-flag  \n",
              "2102                  CLDR Short Name  \n",
              "2103                    flag: England  \n",
              "2104                   flag: Scotland  \n",
              "2105                      flag: Wales  \n",
              "\n",
              "[2106 rows x 2 columns]"
            ],
            "text/html": [
              "\n",
              "  <div id=\"df-99ecbc51-e4b5-4fea-9b3f-ba90ea94f8bd\">\n",
              "    <div class=\"colab-df-container\">\n",
              "      <div>\n",
              "<style scoped>\n",
              "    .dataframe tbody tr th:only-of-type {\n",
              "        vertical-align: middle;\n",
              "    }\n",
              "\n",
              "    .dataframe tbody tr th {\n",
              "        vertical-align: top;\n",
              "    }\n",
              "\n",
              "    .dataframe thead th {\n",
              "        text-align: right;\n",
              "    }\n",
              "</style>\n",
              "<table border=\"1\" class=\"dataframe\">\n",
              "  <thead>\n",
              "    <tr style=\"text-align: right;\">\n",
              "      <th></th>\n",
              "      <th>Code</th>\n",
              "      <th>CLDR Short Name</th>\n",
              "    </tr>\n",
              "  </thead>\n",
              "  <tbody>\n",
              "    <tr>\n",
              "      <th>0</th>\n",
              "      <td>&lt;U+0001F600&gt;</td>\n",
              "      <td>grinning face</td>\n",
              "    </tr>\n",
              "    <tr>\n",
              "      <th>1</th>\n",
              "      <td>&lt;U+0001F603&gt;</td>\n",
              "      <td>grinning face with big eyes</td>\n",
              "    </tr>\n",
              "    <tr>\n",
              "      <th>2</th>\n",
              "      <td>&lt;U+0001F604&gt;</td>\n",
              "      <td>grinning face with smiling eyes</td>\n",
              "    </tr>\n",
              "    <tr>\n",
              "      <th>3</th>\n",
              "      <td>&lt;U+0001F601&gt;</td>\n",
              "      <td>beaming face with smiling eyes</td>\n",
              "    </tr>\n",
              "    <tr>\n",
              "      <th>4</th>\n",
              "      <td>&lt;U+0001F606&gt;</td>\n",
              "      <td>grinning squinting face</td>\n",
              "    </tr>\n",
              "    <tr>\n",
              "      <th>...</th>\n",
              "      <td>...</td>\n",
              "      <td>...</td>\n",
              "    </tr>\n",
              "    <tr>\n",
              "      <th>2101</th>\n",
              "      <td>&lt;subdivision-flag&gt;</td>\n",
              "      <td>subdivision-flag</td>\n",
              "    </tr>\n",
              "    <tr>\n",
              "      <th>2102</th>\n",
              "      <td>&lt;Code&gt;</td>\n",
              "      <td>CLDR Short Name</td>\n",
              "    </tr>\n",
              "    <tr>\n",
              "      <th>2103</th>\n",
              "      <td>&lt;U+0001F3F4 U+000E0067 U+000E0062 U+000E0065 U...</td>\n",
              "      <td>flag: England</td>\n",
              "    </tr>\n",
              "    <tr>\n",
              "      <th>2104</th>\n",
              "      <td>&lt;U+0001F3F4 U+000E0067 U+000E0062 U+000E0073 U...</td>\n",
              "      <td>flag: Scotland</td>\n",
              "    </tr>\n",
              "    <tr>\n",
              "      <th>2105</th>\n",
              "      <td>&lt;U+0001F3F4 U+000E0067 U+000E0062 U+000E0077 U...</td>\n",
              "      <td>flag: Wales</td>\n",
              "    </tr>\n",
              "  </tbody>\n",
              "</table>\n",
              "<p>2106 rows × 2 columns</p>\n",
              "</div>\n",
              "      <button class=\"colab-df-convert\" onclick=\"convertToInteractive('df-99ecbc51-e4b5-4fea-9b3f-ba90ea94f8bd')\"\n",
              "              title=\"Convert this dataframe to an interactive table.\"\n",
              "              style=\"display:none;\">\n",
              "        \n",
              "  <svg xmlns=\"http://www.w3.org/2000/svg\" height=\"24px\"viewBox=\"0 0 24 24\"\n",
              "       width=\"24px\">\n",
              "    <path d=\"M0 0h24v24H0V0z\" fill=\"none\"/>\n",
              "    <path d=\"M18.56 5.44l.94 2.06.94-2.06 2.06-.94-2.06-.94-.94-2.06-.94 2.06-2.06.94zm-11 1L8.5 8.5l.94-2.06 2.06-.94-2.06-.94L8.5 2.5l-.94 2.06-2.06.94zm10 10l.94 2.06.94-2.06 2.06-.94-2.06-.94-.94-2.06-.94 2.06-2.06.94z\"/><path d=\"M17.41 7.96l-1.37-1.37c-.4-.4-.92-.59-1.43-.59-.52 0-1.04.2-1.43.59L10.3 9.45l-7.72 7.72c-.78.78-.78 2.05 0 2.83L4 21.41c.39.39.9.59 1.41.59.51 0 1.02-.2 1.41-.59l7.78-7.78 2.81-2.81c.8-.78.8-2.07 0-2.86zM5.41 20L4 18.59l7.72-7.72 1.47 1.35L5.41 20z\"/>\n",
              "  </svg>\n",
              "      </button>\n",
              "      \n",
              "  <style>\n",
              "    .colab-df-container {\n",
              "      display:flex;\n",
              "      flex-wrap:wrap;\n",
              "      gap: 12px;\n",
              "    }\n",
              "\n",
              "    .colab-df-convert {\n",
              "      background-color: #E8F0FE;\n",
              "      border: none;\n",
              "      border-radius: 50%;\n",
              "      cursor: pointer;\n",
              "      display: none;\n",
              "      fill: #1967D2;\n",
              "      height: 32px;\n",
              "      padding: 0 0 0 0;\n",
              "      width: 32px;\n",
              "    }\n",
              "\n",
              "    .colab-df-convert:hover {\n",
              "      background-color: #E2EBFA;\n",
              "      box-shadow: 0px 1px 2px rgba(60, 64, 67, 0.3), 0px 1px 3px 1px rgba(60, 64, 67, 0.15);\n",
              "      fill: #174EA6;\n",
              "    }\n",
              "\n",
              "    [theme=dark] .colab-df-convert {\n",
              "      background-color: #3B4455;\n",
              "      fill: #D2E3FC;\n",
              "    }\n",
              "\n",
              "    [theme=dark] .colab-df-convert:hover {\n",
              "      background-color: #434B5C;\n",
              "      box-shadow: 0px 1px 3px 1px rgba(0, 0, 0, 0.15);\n",
              "      filter: drop-shadow(0px 1px 2px rgba(0, 0, 0, 0.3));\n",
              "      fill: #FFFFFF;\n",
              "    }\n",
              "  </style>\n",
              "\n",
              "      <script>\n",
              "        const buttonEl =\n",
              "          document.querySelector('#df-99ecbc51-e4b5-4fea-9b3f-ba90ea94f8bd button.colab-df-convert');\n",
              "        buttonEl.style.display =\n",
              "          google.colab.kernel.accessAllowed ? 'block' : 'none';\n",
              "\n",
              "        async function convertToInteractive(key) {\n",
              "          const element = document.querySelector('#df-99ecbc51-e4b5-4fea-9b3f-ba90ea94f8bd');\n",
              "          const dataTable =\n",
              "            await google.colab.kernel.invokeFunction('convertToInteractive',\n",
              "                                                     [key], {});\n",
              "          if (!dataTable) return;\n",
              "\n",
              "          const docLinkHtml = 'Like what you see? Visit the ' +\n",
              "            '<a target=\"_blank\" href=https://colab.research.google.com/notebooks/data_table.ipynb>data table notebook</a>'\n",
              "            + ' to learn more about interactive tables.';\n",
              "          element.innerHTML = '';\n",
              "          dataTable['output_type'] = 'display_data';\n",
              "          await google.colab.output.renderOutput(dataTable, element);\n",
              "          const docLink = document.createElement('div');\n",
              "          docLink.innerHTML = docLinkHtml;\n",
              "          element.appendChild(docLink);\n",
              "        }\n",
              "      </script>\n",
              "    </div>\n",
              "  </div>\n",
              "  "
            ]
          },
          "metadata": {},
          "execution_count": 38
        }
      ],
      "source": [
        "df_emojis"
      ]
    },
    {
      "cell_type": "code",
      "execution_count": 39,
      "metadata": {
        "id": "Rnp2mDHYpJQc"
      },
      "outputs": [],
      "source": [
        "# Replacing emoticon with its respective meaning\n",
        "to_replace = df_emojis.Code.tolist()\n",
        "replace_with = df_emojis['CLDR Short Name'].tolist()\n",
        "\n",
        "# using zip() to convert lists to dictionary\n",
        "res = dict(zip(to_replace, replace_with))\n",
        "\n",
        "def replace_all(text, dic):\n",
        "    for i, j in dic.items():\n",
        "        text = text.replace(str(i), j + \" \")\n",
        "    return text"
      ]
    },
    {
      "cell_type": "code",
      "execution_count": 40,
      "metadata": {
        "id": "EDhmcRKgpJQc"
      },
      "outputs": [],
      "source": [
        "### check following indexes for emoticon replacement\n",
        "## [1, 37, 89, 132, 145, 190, 208, 214, 237, 357, 367, 439 ]\n",
        "## index - 439,145 didnot get replaced -- cant find the emojis to replace\n",
        "###"
      ]
    },
    {
      "cell_type": "code",
      "execution_count": 41,
      "metadata": {
        "id": "kWH6cYo7pJQc",
        "outputId": "99bad043-74ef-487f-c2db-5fa8033d8d47",
        "colab": {
          "base_uri": "https://localhost:8080/",
          "height": 35
        }
      },
      "outputs": [
        {
          "output_type": "execute_result",
          "data": {
            "text/plain": [
              "'If I’m not eligible for the offer Stop flooding my email with this false information pouting face pouting face pouting face '"
            ],
            "application/vnd.google.colaboratory.intrinsic+json": {
              "type": "string"
            }
          },
          "metadata": {},
          "execution_count": 41
        }
      ],
      "source": [
        "df1.Review = df1.Review.apply(lambda text: replace_all(text, res))\n",
        "df1.Review[1]"
      ]
    },
    {
      "cell_type": "code",
      "execution_count": 42,
      "metadata": {
        "id": "uLcVSHCipJQd"
      },
      "outputs": [],
      "source": [
        "# df1.Review[37]"
      ]
    },
    {
      "cell_type": "code",
      "execution_count": 43,
      "metadata": {
        "id": "JRkjsASWpJQd"
      },
      "outputs": [],
      "source": [
        "# replace_all(df.Review[89],res)"
      ]
    },
    {
      "cell_type": "code",
      "execution_count": 44,
      "metadata": {
        "id": "y4H9x4DNpJQd",
        "outputId": "fa6c751f-a623-431f-861b-4b04d931d340",
        "colab": {
          "base_uri": "https://localhost:8080/"
        }
      },
      "outputs": [
        {
          "output_type": "execute_result",
          "data": {
            "text/plain": [
              "(490, 4)"
            ]
          },
          "metadata": {},
          "execution_count": 44
        }
      ],
      "source": [
        "df1.Review = df1.Review.str.split('<').str[0]\n",
        "df1.shape"
      ]
    },
    {
      "cell_type": "code",
      "execution_count": 45,
      "metadata": {
        "id": "RdeNsTmtpJQd",
        "outputId": "35d1c395-5551-4665-c20c-444f57af6047",
        "colab": {
          "base_uri": "https://localhost:8080/",
          "height": 35
        }
      },
      "outputs": [
        {
          "output_type": "execute_result",
          "data": {
            "text/plain": [
              "'If I’m not eligible for the offer Stop flooding my email with this false information pouting face pouting face pouting face '"
            ],
            "application/vnd.google.colaboratory.intrinsic+json": {
              "type": "string"
            }
          },
          "metadata": {},
          "execution_count": 45
        }
      ],
      "source": [
        "df1.Review[1]"
      ]
    },
    {
      "cell_type": "code",
      "execution_count": 46,
      "metadata": {
        "id": "3oA-80aapJQe",
        "outputId": "fc998075-b517-42d1-b8b5-1b83610a93f9",
        "colab": {
          "base_uri": "https://localhost:8080/"
        }
      },
      "outputs": [
        {
          "output_type": "execute_result",
          "data": {
            "text/plain": [
              "(489, 4)"
            ]
          },
          "metadata": {},
          "execution_count": 46
        }
      ],
      "source": [
        "df1['Review'].replace('', np.nan, inplace=True)\n",
        "df1.dropna(subset=['Review'], inplace=True)\n",
        "df1.shape"
      ]
    },
    {
      "cell_type": "code",
      "execution_count": 47,
      "metadata": {
        "id": "-ul3GrIRpJQe",
        "outputId": "840730fc-4ad8-4bca-f2d3-be3958181058",
        "colab": {
          "base_uri": "https://localhost:8080/",
          "height": 374
        }
      },
      "outputs": [
        {
          "output_type": "error",
          "ename": "ModuleNotFoundError",
          "evalue": "ignored",
          "traceback": [
            "\u001b[0;31m---------------------------------------------------------------------------\u001b[0m",
            "\u001b[0;31mModuleNotFoundError\u001b[0m                       Traceback (most recent call last)",
            "\u001b[0;32m<ipython-input-47-680e653ebf64>\u001b[0m in \u001b[0;36m<module>\u001b[0;34m()\u001b[0m\n\u001b[0;32m----> 1\u001b[0;31m \u001b[0;32mfrom\u001b[0m \u001b[0mvaderSentiment\u001b[0m\u001b[0;34m.\u001b[0m\u001b[0mvaderSentiment\u001b[0m \u001b[0;32mimport\u001b[0m \u001b[0mSentimentIntensityAnalyzer\u001b[0m\u001b[0;34m\u001b[0m\u001b[0;34m\u001b[0m\u001b[0m\n\u001b[0m\u001b[1;32m      2\u001b[0m \u001b[0manalyzer\u001b[0m \u001b[0;34m=\u001b[0m \u001b[0mSentimentIntensityAnalyzer\u001b[0m\u001b[0;34m(\u001b[0m\u001b[0;34m)\u001b[0m\u001b[0;34m\u001b[0m\u001b[0;34m\u001b[0m\u001b[0m\n\u001b[1;32m      3\u001b[0m \u001b[0;34m\u001b[0m\u001b[0m\n\u001b[1;32m      4\u001b[0m \u001b[0;31m# define unit func to process one doc\u001b[0m\u001b[0;34m\u001b[0m\u001b[0;34m\u001b[0m\u001b[0;34m\u001b[0m\u001b[0m\n\u001b[1;32m      5\u001b[0m \u001b[0;32mfrom\u001b[0m \u001b[0mnltk\u001b[0m \u001b[0;32mimport\u001b[0m \u001b[0msent_tokenize\u001b[0m\u001b[0;34m,\u001b[0m \u001b[0mword_tokenize\u001b[0m\u001b[0;34m\u001b[0m\u001b[0;34m\u001b[0m\u001b[0m\n",
            "\u001b[0;31mModuleNotFoundError\u001b[0m: No module named 'vaderSentiment'",
            "",
            "\u001b[0;31m---------------------------------------------------------------------------\u001b[0;32m\nNOTE: If your import is failing due to a missing package, you can\nmanually install dependencies using either !pip or !apt.\n\nTo view examples of installing some common dependencies, click the\n\"Open Examples\" button below.\n\u001b[0;31m---------------------------------------------------------------------------\u001b[0m\n"
          ],
          "errorDetails": {
            "actions": [
              {
                "action": "open_url",
                "actionText": "Open Examples",
                "url": "/notebooks/snippets/importing_libraries.ipynb"
              }
            ]
          }
        }
      ],
      "source": [
        "from vaderSentiment.vaderSentiment import SentimentIntensityAnalyzer\n",
        "analyzer = SentimentIntensityAnalyzer()\n",
        "\n",
        "# define unit func to process one doc\n",
        "from nltk import sent_tokenize, word_tokenize\n",
        "def vader_unit_func(doc0,column_name):\n",
        "    sents_list0 = sent_tokenize(doc0)\n",
        "    vs_doc0 = []\n",
        "    sent_ind = []\n",
        "    for i in range(len(sents_list0)):\n",
        "        vs_sent0 = analyzer.polarity_scores(sents_list0[i])\n",
        "        vs_doc0.append(vs_sent0)\n",
        "        sent_ind.append(i)\n",
        "        \n",
        "    # obtain output as DF    \n",
        "    doc0_df = pd.DataFrame(vs_doc0)\n",
        "    doc0_df.columns = [x+column_name for x in doc0_df.columns]\n",
        "    doc0_df.insert(0, 'sent_index', sent_ind)  # insert sent index\n",
        "    doc0_df.insert(doc0_df.shape[1], 'sentence', sents_list0)\n",
        "    return(doc0_df)\n",
        "\n",
        "# define wrapper func\n",
        "def vader_wrap_func(corpus0,column_name):\n",
        "    \n",
        "    # use ifinstance() to check & convert input to DF\n",
        "    if isinstance(corpus0, list):\n",
        "        corpus0 = pd.DataFrame({'text':corpus0})\n",
        "    \n",
        "    # define empty DF to concat unit func output to\n",
        "    vs_df = pd.DataFrame()    \n",
        "    \n",
        "    # apply unit-func to each doc & loop over all docs\n",
        "    for i1 in range(len(corpus0)):\n",
        "        doc0 = str(corpus0.iloc[i1])\n",
        "        vs_doc_df = vader_unit_func(doc0,column_name)  # applying unit-func\n",
        "        vs_doc_df.insert(0, 'doc_index', i1)  # inserting doc index\n",
        "        vs_df = pd.concat([vs_df, vs_doc_df], axis=0)\n",
        "        \n",
        "    return(vs_df)"
      ]
    },
    {
      "cell_type": "code",
      "execution_count": null,
      "metadata": {
        "id": "qFOcQSfupJQe"
      },
      "outputs": [],
      "source": [
        "# test-drive wrapper func\n",
        "review_sentiment = vader_wrap_func(df1.Review,'_review').groupby('doc_index').sum()\n",
        "title_sentiment = vader_wrap_func(df1.Title,'_title').groupby('doc_index').sum()\n",
        "df1 = pd.concat([df1,review_sentiment,title_sentiment],axis=1)\n",
        "print(df1.shape)\n",
        "df1.head()"
      ]
    },
    {
      "cell_type": "code",
      "execution_count": null,
      "metadata": {
        "id": "kg1s53aQpJQf"
      },
      "outputs": [],
      "source": [
        "# Converting Date into datetime format\n",
        "df1['Date'] =  pd.to_datetime(df1['Date'], format='%d-%m-%Y %H:%M')\n",
        "df1.Date.head()"
      ]
    },
    {
      "cell_type": "code",
      "execution_count": null,
      "metadata": {
        "id": "pKW7TmTupJQf"
      },
      "outputs": [],
      "source": [
        "df1['Isweekend'] = np.where(df1.Date.dt.dayofweek>4,1,0)\n",
        "df1['Late_night'] = np.where(df1.Date.dt.hour<4,1,0)\n",
        "df1['Early_mrng'] = np.where(df1.Date.dt.hour.between(4,8),1,0)\n",
        "df1['Morning'] = np.where(df1.Date.dt.hour.between(8,12),1,0)\n",
        "df1['Noon'] = np.where(df1.Date.dt.hour.between(12,16),1,0)\n",
        "df1['Eve'] = np.where(df1.Date.dt.hour.between(16,20),1,0)\n",
        "df1['Night'] = np.where(df1.Date.dt.hour>20,1,0)\n",
        "df1.head()"
      ]
    },
    {
      "cell_type": "code",
      "execution_count": null,
      "metadata": {
        "id": "9yloQ6BTpJQf"
      },
      "outputs": [],
      "source": [
        "df1=df1.drop(['sent_index','Title','Review','Date'],axis=1)\n",
        "df1.head()"
      ]
    },
    {
      "cell_type": "code",
      "execution_count": null,
      "metadata": {
        "id": "fEaa36V0pJQg"
      },
      "outputs": [],
      "source": [
        "# Removing null values\n",
        "df1.dropna(inplace=True)"
      ]
    },
    {
      "cell_type": "markdown",
      "metadata": {
        "id": "yxnnInGipJQg"
      },
      "source": [
        "### Preliminary Regression Model\n"
      ]
    },
    {
      "cell_type": "code",
      "execution_count": null,
      "metadata": {
        "id": "dQ-CE-uSpJQg"
      },
      "outputs": [],
      "source": [
        "y = df1.Rating\n",
        "X = df1.drop('Rating', axis=1)\n",
        "y.shape, X.shape"
      ]
    },
    {
      "cell_type": "code",
      "execution_count": null,
      "metadata": {
        "id": "6Sc329zzpJQg"
      },
      "outputs": [],
      "source": [
        "X.isnull().sum()"
      ]
    },
    {
      "cell_type": "code",
      "execution_count": null,
      "metadata": {
        "id": "BWS_aKKApJQg"
      },
      "outputs": [],
      "source": [
        "import statsmodels.api as sm\n",
        "X = sm.add_constant(X)\n",
        "model = sm.OLS(y,X).fit()\n",
        "model.summary()"
      ]
    },
    {
      "cell_type": "code",
      "execution_count": null,
      "metadata": {
        "id": "l67f4kwIpJQh"
      },
      "outputs": [],
      "source": [
        "X.drop('const',axis=1,inplace=True)\n",
        "X.head()"
      ]
    },
    {
      "cell_type": "code",
      "execution_count": null,
      "metadata": {
        "id": "RjGPJjrfpJQh"
      },
      "outputs": [],
      "source": [
        "from sklearn.model_selection import train_test_split\n",
        "X_train, X_test, y_train, y_test = train_test_split(X,y,test_size = 0.3, random_state = 0)\n",
        "X_train.shape, X_test.shape, y_train.shape, y_test.shape"
      ]
    },
    {
      "cell_type": "markdown",
      "metadata": {
        "id": "zYkgSfDJpJQh"
      },
      "source": [
        "### Calculating VIF"
      ]
    },
    {
      "cell_type": "code",
      "execution_count": null,
      "metadata": {
        "id": "P5I2qhHUpJQh"
      },
      "outputs": [],
      "source": [
        "from statsmodels.stats.outliers_influence import variance_inflation_factor\n",
        "\n",
        "def calc_vif(X):\n",
        "   \n",
        "    vif = pd.DataFrame()\n",
        "    vif[\"variables\"] = X.columns\n",
        "    vif[\"VIF\"] = [variance_inflation_factor(X.values, i) for i in range(X.shape[1])]\n",
        "    vif['VIF'].sort_values()\n",
        "\n",
        "    return(vif)"
      ]
    },
    {
      "cell_type": "code",
      "execution_count": null,
      "metadata": {
        "scrolled": false,
        "id": "VxkmXn_LpJQh"
      },
      "outputs": [],
      "source": [
        "calc_vif(X)"
      ]
    },
    {
      "cell_type": "markdown",
      "metadata": {
        "id": "tFfbYKJWpJQh"
      },
      "source": [
        "Generally, a VIF above 4 or tolerance below 0.25 indicates that multicollinearity might exist, and further investigation is required.   \n",
        "When VIF is higher than 10 or tolerance is lower than 0.1, there is significant multicollinearity that needs to be corrected.  \n",
        "  \n",
        "Since all the above variables have VIF below 4 and above 0.25, we can be assured that there is no multicollinearity."
      ]
    },
    {
      "cell_type": "code",
      "execution_count": null,
      "metadata": {
        "id": "JFnRJKSxpJQh"
      },
      "outputs": [],
      "source": [
        "# We will save the model performance metrics in a DataFrame\n",
        "\n",
        "from sklearn.metrics import mean_squared_error, r2_score\n",
        "from sklearn.model_selection import KFold, cross_val_score\n",
        "Model = []\n",
        "RMSE = []\n",
        "R_sq = []\n",
        "cv = KFold(5)\n",
        "\n",
        "#Creating a Function to append the cross validation scores of the algorithms\n",
        "def input_scores(name, model, x, y):\n",
        "    Model.append(name)\n",
        "    RMSE.append(np.sqrt((-1) * cross_val_score(model, x, y, cv=cv, scoring='neg_mean_squared_error').mean()))\n",
        "    R_sq.append(cross_val_score(model, x, y, cv=cv, scoring='r2').mean())"
      ]
    },
    {
      "cell_type": "code",
      "execution_count": null,
      "metadata": {
        "id": "ASfn8jrEpJQi"
      },
      "outputs": [],
      "source": [
        "from xgboost import XGBRegressor\n",
        "from sklearn.tree import DecisionTreeRegressor\n",
        "from sklearn.neighbors import KNeighborsRegressor\n",
        "from sklearn.linear_model import LinearRegression, Ridge, Lasso\n",
        "from sklearn.ensemble import (RandomForestRegressor, GradientBoostingRegressor, AdaBoostRegressor)\n",
        "\n",
        "names = ['Linear Regression', 'Ridge Regression', 'Lasso Regression',\n",
        "         'K Neighbors Regressor', 'Decision Tree Regressor', \n",
        "         'Random Forest Regressor', 'Gradient Boosting Regressor',\n",
        "         'Adaboost Regressor','XGBRegressor']\n",
        "\n",
        "models = [LinearRegression(), Ridge(), Lasso(),\n",
        "          KNeighborsRegressor(), DecisionTreeRegressor(),\n",
        "          RandomForestRegressor(), GradientBoostingRegressor(), \n",
        "          AdaBoostRegressor(),XGBRegressor()]\n",
        "\n",
        "#Running all algorithms\n",
        "for name, model in zip(names, models):\n",
        "    input_scores(name, model, X_train, y_train)"
      ]
    },
    {
      "cell_type": "markdown",
      "metadata": {
        "id": "MNCSMkARpJQi"
      },
      "source": [
        "Reference: https://www.kaggle.com/swatisinghalmav/best-of-8-regression-models-to-predict-strength"
      ]
    },
    {
      "cell_type": "code",
      "execution_count": null,
      "metadata": {
        "id": "vBoQApWOpJQi"
      },
      "outputs": [],
      "source": [
        "evaluation = pd.DataFrame({'Model': Model,'RMSE': RMSE,'R Squared': R_sq})\n",
        "print(\"FOLLOWING ARE THE TRAINING SCORES: \")\n",
        "evaluation"
      ]
    },
    {
      "cell_type": "markdown",
      "metadata": {
        "id": "bDxSZBiJpJQi"
      },
      "source": [
        "## Next Steps:\n",
        "1. Convert non-English reviews to English or use non-english dictionary - ## need to add to current code\n",
        "2. Scale the emoticons replacement - ## validation pending\n",
        "3. Make sentiment analysis of Title - ## Done\n",
        "4. From Date, extract weekend, weekday, morning, afternoon, evening, night - ## Done\n",
        "5. Make preliminary regression model with y variable as Ratings - ## Done\n",
        "6. ?Use OLS - ## Done\n",
        "7. Feature Engineering - columns on specific word count\n",
        "8. Shiny App\n",
        "9. Add PCA"
      ]
    }
  ],
  "metadata": {
    "kernelspec": {
      "display_name": "Python 3 (ipykernel)",
      "language": "python",
      "name": "python3"
    },
    "language_info": {
      "codemirror_mode": {
        "name": "ipython",
        "version": 3
      },
      "file_extension": ".py",
      "mimetype": "text/x-python",
      "name": "python",
      "nbconvert_exporter": "python",
      "pygments_lexer": "ipython3",
      "version": "3.9.7"
    },
    "colab": {
      "name": "TA_Group_Assignment_VII.ipynb",
      "provenance": [],
      "include_colab_link": true
    }
  },
  "nbformat": 4,
  "nbformat_minor": 0
}